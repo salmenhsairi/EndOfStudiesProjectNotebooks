{
  "cells": [
    {
      "cell_type": "markdown",
      "metadata": {
        "colab_type": "text",
        "id": "view-in-github"
      },
      "source": [
        "<a href=\"https://colab.research.google.com/github/salmenhsairi/EndOfStudiesProjectNotebooks/blob/main/GPT3ConsistencyTest.ipynb\" target=\"_parent\"><img src=\"https://colab.research.google.com/assets/colab-badge.svg\" alt=\"Open In Colab\"/></a>"
      ]
    },
    {
      "cell_type": "code",
      "execution_count": null,
      "metadata": {
        "id": "m4rih_Ng-iQt"
      },
      "outputs": [],
      "source": [
        "! pip install -q openai\n",
        "! pip install datasets"
      ]
    },
    {
      "cell_type": "code",
      "execution_count": null,
      "metadata": {
        "id": "BeJnRYHw-6y7"
      },
      "outputs": [],
      "source": [
        "import re\n",
        "import random\n",
        "import os\n",
        "import json\n",
        "import openai\n",
        "import time\n",
        "import itertools\n",
        "import signal\n",
        "\n",
        "from datasets import load_dataset\n",
        "from random import sample\n",
        "\n",
        "random.seed(42)"
      ]
    },
    {
      "cell_type": "code",
      "execution_count": null,
      "metadata": {
        "colab": {
          "base_uri": "https://localhost:8080/"
        },
        "id": "NS6TSCYDaYol",
        "outputId": "00ef91f1-8280-45f8-a471-a4b085f699d6"
      },
      "outputs": [
        {
          "data": {
            "text/plain": [
              "<Handlers.SIG_DFL: 0>"
            ]
          },
          "execution_count": 3,
          "metadata": {},
          "output_type": "execute_result"
        }
      ],
      "source": [
        "import signal\n",
        "def signal_handler(signum, frame):\n",
        "    raise Exception(\"Timed out!\")\n",
        "signal.signal(signal.SIGALRM, signal_handler)  "
      ]
    },
    {
      "cell_type": "markdown",
      "metadata": {
        "id": "y_TjD-lTCSsr"
      },
      "source": [
        "## GPT3 60 Document Completion"
      ]
    },
    {
      "cell_type": "code",
      "execution_count": null,
      "metadata": {
        "id": "KOYgjtuY-7ib"
      },
      "outputs": [],
      "source": [
        "# Setting openai API key\n",
        "os.environ['OPENAI_API_KEY'] = 'Put your openai API key here'\n",
        "openai.api_key = os.getenv(\"OPENAI_API_KEY\")"
      ]
    },
    {
      "cell_type": "markdown",
      "metadata": {
        "id": "9ipSyizSqqjf"
      },
      "source": [
        "### GPT3 Input construction\n"
      ]
    },
    {
      "cell_type": "code",
      "execution_count": null,
      "metadata": {
        "id": "Fl-esNFmuYnu"
      },
      "outputs": [],
      "source": [
        "entities_to_extract_example = [\"MEDICAL_CONDITION\", \"MEDICINE\", \"PATHOGEN\"]\n",
        "text_example = \"While bismuth compounds (Pepto-Bismol) decreased the number of bowel movements in those with travelers' diarrhea, they do not decrease the length of illness.[91] Anti-motility agents like loperamide are also effective at reducing the number of stools but not the duration of disease.[8] These agents should be used only if bloody diarrhea is not present.[92]\\n\\nDiosmectite, a natural aluminomagnesium silicate clay, is effective in alleviating symptoms of acute diarrhea in children,[93] and also has some effects in chronic functional diarrhea, radiation-induced diarrhea, and chemotherapy-induced diarrhea.[45] Another absorbent agent used for the treatment of mild diarrhea is kaopectate.\\n\\nRacecadotril an antisecretory medication may be used to treat diarrhea in children and adults.[86] It has better tolerability than loperamide, as it causes less constipation and flatulence.[94]\"\n",
        "prompt_example = \"\"\"\n",
        "\"While bismuth compounds (Pepto-Bismol) decreased the number of bowel movements in those with travelers' diarrhea, they do not decrease the length of illness.[91] Anti-motility agents like loperamide are also effective at reducing the number of stools but not the duration of disease.[8] These agents should be used only if bloody diarrhea is not present.[92]\\n\\nDiosmectite, a natural aluminomagnesium silicate clay, is effective in alleviating symptoms of acute diarrhea in children,[93] and also has some effects in chronic functional diarrhea, radiation-induced diarrhea, and chemotherapy-induced diarrhea.[45] Another absorbent agent used for the treatment of mild diarrhea is kaopectate.\\n\\nRacecadotril an antisecretory medication may be used to treat diarrhea in children and adults.[86] It has better tolerability than loperamide, as it causes less constipation and flatulence.[94]\"\n",
        "\n",
        "Extract MEDICAL_CONDITION, MEDICINE, PATHOGEN from the text from the text in in format :\n",
        "{ \n",
        "\"MEDICAL_CONDITION\": Array<String>, \n",
        "\"MEDICINE\": Array<String> , \n",
        "\"PATHOGEN\" : Array<String>, \n",
        "}\n",
        "\n",
        "{\n",
        "\"\"\""
      ]
    },
    {
      "cell_type": "code",
      "execution_count": null,
      "metadata": {
        "id": "LNBWK97GthGm"
      },
      "outputs": [],
      "source": [
        "# a simple function that aims to prepare the prompt for the model \n",
        "# based on the document and the entities to extract from the doc\n",
        "def generate_prompt(text,entities_to_extract):\n",
        "  if not isinstance(text,str) or not isinstance(entities_to_extract,list):\n",
        "    raise (ValueError('check input format'))\n",
        "  entities_text = \", \".join(entities_to_extract)\n",
        "  output_format = \"\\n\".join([f'\"{entity}\"'+\": Array<String>,\" for entity in entities_to_extract])\n",
        "  prompt = f'''\"{text}\"\n",
        "\n",
        "Extract {entities_text} from the text in a JSON object in format:\n",
        "{{\n",
        "{output_format[:-1]}\n",
        "}}\n",
        "\n",
        "{{'''\n",
        "  return prompt"
      ]
    },
    {
      "cell_type": "code",
      "execution_count": null,
      "metadata": {
        "id": "sRjyVqfmvcCW"
      },
      "outputs": [],
      "source": [
        "# function test\n",
        "with open('prompt_output.txt','w') as pt:\n",
        "  prompt = generate_prompt(text_example,entities_to_extract_example)\n",
        "  pt.write(prompt)"
      ]
    },
    {
      "cell_type": "markdown",
      "metadata": {
        "id": "pvdoxfII4_K0"
      },
      "source": [
        "### Dealing with Data sources"
      ]
    },
    {
      "cell_type": "code",
      "execution_count": null,
      "metadata": {
        "id": "VVqcCTak5PS0"
      },
      "outputs": [],
      "source": [
        "# https://huggingface.co/datasets/conll2003\n",
        "conll_datasets = load_dataset('conll2003')\n",
        "# https://huggingface.co/datasets/ncbi_disease\n",
        "ncbi_disease_dataset = load_dataset('ncbi_disease')"
      ]
    },
    {
      "cell_type": "code",
      "execution_count": null,
      "metadata": {
        "id": "qqGpFllx_S5S"
      },
      "outputs": [],
      "source": [
        "colnn_ents = conll_datasets[\"train\"].features['ner_tags'].feature.names\n",
        "ncbi_disease_ents = ncbi_disease_dataset['train'].features['ner_tags'].feature.names"
      ]
    },
    {
      "cell_type": "code",
      "execution_count": null,
      "metadata": {
        "id": "PZ-3-gNDHxwh"
      },
      "outputs": [],
      "source": [
        "colnn_unique_ents = set([ent[2:] for ent in colnn_ents if ent != 'O'])\n",
        "ncbi_disease_unique_ents = set([ent[2:] for ent in ncbi_disease_ents if ent != 'O'])"
      ]
    },
    {
      "cell_type": "code",
      "execution_count": null,
      "metadata": {
        "id": "Svz8wLr9D1MB"
      },
      "outputs": [],
      "source": [
        "colnn_dict = conll_datasets[\"train\"].to_dict()\n",
        "ncbi_disease_dict = ncbi_disease_dataset['train'].to_dict()"
      ]
    },
    {
      "cell_type": "code",
      "execution_count": null,
      "metadata": {
        "id": "ZcTJHaKMEBlR"
      },
      "outputs": [],
      "source": [
        "# a function to keep only tokens and NER tags within documents\n",
        "def clean_dict(dataset_dict):\n",
        "  keys_origin = list(dataset_dict.keys())\n",
        "  for key in keys_origin:\n",
        "    if key not in ['tokens','ner_tags']:\n",
        "      dataset_dict.pop(key)\n",
        "      print()"
      ]
    },
    {
      "cell_type": "code",
      "execution_count": null,
      "metadata": {
        "id": "P7U1zKWjE5xS"
      },
      "outputs": [],
      "source": [
        "clean_dict(colnn_dict)\n",
        "clean_dict(ncbi_disease_dict)\n",
        "assert list(colnn_dict.keys()) == list(ncbi_disease_dict.keys()) == ['tokens','ner_tags']"
      ]
    },
    {
      "cell_type": "code",
      "execution_count": null,
      "metadata": {
        "id": "BfsS4GoGDd8q"
      },
      "outputs": [],
      "source": [
        "def get_dataset_texts(examples_dict):\n",
        "  texts = list()\n",
        "  for example in examples_dict['tokens']:\n",
        "      text = ' '.join([token for token in example])\n",
        "      texts.append(text)\n",
        "  return texts"
      ]
    },
    {
      "cell_type": "code",
      "execution_count": null,
      "metadata": {
        "id": "lWJgfy2vFy_R"
      },
      "outputs": [],
      "source": [
        "# colnn_texts = get_dataset_texts(colnn_dict)\n",
        "# ncbi_disease_texts = get_dataset_texts(ncbi_disease_dict)"
      ]
    },
    {
      "cell_type": "code",
      "execution_count": null,
      "metadata": {
        "id": "OZRzst9SJ0XY"
      },
      "outputs": [],
      "source": [
        "def has_entities(dataset_dict,dataset_ents,text_index):\n",
        "    entities = dataset_dict['ner_tags'][text_index]\n",
        "    if all(map(lambda x : x == dataset_ents.index(\"O\"),entities)):\n",
        "      return False\n",
        "    return True"
      ]
    },
    {
      "cell_type": "code",
      "execution_count": null,
      "metadata": {
        "id": "_zd3LikZNhTQ"
      },
      "outputs": [],
      "source": [
        "def generate_text_sample(dataset_dict,dataset_ents,sample_size=25,text_length=30):\n",
        "    texts = get_dataset_texts(dataset_dict)\n",
        "    while True:\n",
        "        sampled = sample(texts,sample_size)\n",
        "        if all(map(lambda text : (len(text) >= text_length) and \n",
        "           (has_entities(dataset_dict,dataset_ents,texts.index(text))),sampled)):\n",
        "          return sampled"
      ]
    },
    {
      "cell_type": "code",
      "execution_count": null,
      "metadata": {
        "id": "eqUZaZbLN0Ff"
      },
      "outputs": [],
      "source": [
        "def get_text_sample(dataset_dict,dataset_ents,sample_size=25):\n",
        "  try:\n",
        "    signal.alarm(5)\n",
        "    dataset_sample = generate_text_sample(dataset_dict,dataset_ents)\n",
        "  except Exception as e:\n",
        "    dataset_sample = []\n",
        "    num_chunks = sample_size // 10\n",
        "    rest = sample_size % 10\n",
        "    for i in range(num_chunks):\n",
        "      dataset_sub_sample = generate_text_sample(dataset_dict,dataset_ents,sample_size=10)\n",
        "      dataset_sample.extend(dataset_sub_sample)\n",
        "    dataset_sample.extend(generate_text_sample(dataset_dict,dataset_ents,sample_size=rest))\n",
        "  return dataset_sample"
      ]
    },
    {
      "cell_type": "code",
      "execution_count": null,
      "metadata": {
        "id": "YLZdDQHVVzwO"
      },
      "outputs": [],
      "source": [
        "colnn_sample = get_text_sample(colnn_dict,colnn_ents)"
      ]
    },
    {
      "cell_type": "code",
      "execution_count": null,
      "metadata": {
        "id": "oqYGb5ZFb9in"
      },
      "outputs": [],
      "source": [
        "ncbi_disease_sample = get_text_sample(ncbi_disease_dict,ncbi_disease_ents)"
      ]
    },
    {
      "cell_type": "markdown",
      "metadata": {
        "id": "lFoaJbRTrkUa"
      },
      "source": [
        "### Loading Job Descriptions dataset"
      ]
    },
    {
      "cell_type": "code",
      "execution_count": null,
      "metadata": {
        "id": "FfPBsvX2ch81"
      },
      "outputs": [],
      "source": [
        "with open('/content/128 document with entities only.json','r') as job_dataset:\n",
        "  dataset = json.load(job_dataset,encoding='utf-8')\n",
        "  job_description_sample = sample([example['document'] for example in dataset],25)\n",
        "  job_description_unique_ents = set(['JOB_ROLE', 'PROFESSIONAL_SKILLS', 'YEARS_OF_EXPERIENCE', 'DIPLOMA', 'DIPLOMA_MAJOR'])"
      ]
    },
    {
      "cell_type": "code",
      "execution_count": null,
      "metadata": {
        "id": "8Pda1KEjb38N"
      },
      "outputs": [],
      "source": [
        "# Check Data Samples\n",
        "\n",
        "# colnn_sample\n",
        "# ncbi_disease_sample\n",
        "job_description_sample"
      ]
    },
    {
      "cell_type": "markdown",
      "metadata": {
        "id": "OWSfflYCecYM"
      },
      "source": [
        "### preparing input prompts for GPT model"
      ]
    },
    {
      "cell_type": "code",
      "execution_count": null,
      "metadata": {
        "id": "4woPbSt3e3-t"
      },
      "outputs": [],
      "source": [
        "colnn_prompts = [generate_prompt(text,list(colnn_unique_ents)) for text in colnn_sample]\n",
        "ncbi_disease_prompts = [generate_prompt(text,list(ncbi_disease_unique_ents)) for text in ncbi_disease_sample]\n",
        "job_description_prompts = [generate_prompt(text,list(job_description_unique_ents)) for text in job_description_sample]"
      ]
    },
    {
      "cell_type": "code",
      "execution_count": null,
      "metadata": {
        "id": "1wCzrd5fhFWb"
      },
      "outputs": [],
      "source": [
        "# check a prompt example\n",
        "with open('prompt_test.txt','w') as pt:\n",
        "  prompt = ncbi_disease_prompts[19]\n",
        "  pt.write(prompt)"
      ]
    },
    {
      "cell_type": "code",
      "execution_count": null,
      "metadata": {
        "id": "r5TuCgn7-fmO"
      },
      "outputs": [],
      "source": [
        "def read_openai_response(response):\n",
        "  response_object_str = r\"\"\"{\"\"\" + r\"\"\"{0}\"\"\".format(response[:response.find('}')+1])\n",
        "  if response_object_str.find(',\\n}') != -1:\n",
        "    response_object_str = response_object_str.replace(',\\n}','\\n}')\n",
        "  response_object_dict = json.loads(response_object_str,encoding='utf-8')\n",
        "  return response_object_dict"
      ]
    },
    {
      "cell_type": "code",
      "execution_count": null,
      "metadata": {
        "id": "u0onH-PCDYGm"
      },
      "outputs": [],
      "source": [
        "def extract_prompt_entities(prompt):\n",
        "  start = prompt.find('Extract') + len('Extract')\n",
        "  end = prompt.find('from the text')\n",
        "  entities = prompt[start:end].strip().split(',')\n",
        "  return [entity.strip() for entity in entities]"
      ]
    },
    {
      "cell_type": "code",
      "execution_count": null,
      "metadata": {
        "id": "wo1pnqwlDNGO"
      },
      "outputs": [],
      "source": [
        "def verify_response_keys(prompt,response):\n",
        "  actual_entities = extract_prompt_entities(prompt)\n",
        "  extracted_entities = list(response.keys())\n",
        "  return actual_entities == extracted_entities"
      ]
    },
    {
      "cell_type": "code",
      "execution_count": null,
      "metadata": {
        "id": "qZAoz7u3-9M7"
      },
      "outputs": [],
      "source": [
        "# API Docs https://beta.openai.com/docs/api-reference/completions/create\n",
        "\n",
        "def call_openai_api(prompt,temperature=0.6,max_tokens=256):\n",
        "  if not isinstance(prompt,list):\n",
        "    prompt = [prompt]\n",
        "  response = openai.Completion.create(\n",
        "    model=\"text-davinci-002\",\n",
        "    prompt=prompt,\n",
        "    temperature=temperature,\n",
        "    max_tokens=max_tokens,\n",
        "    logprobs = 1,\n",
        "    # top_p=1, #generally recommended altering this or temperature but not both.\n",
        "    logit_bias = {\"50256\": -100}, # prevent the <|endoftext|> token from being generated.\n",
        "    frequency_penalty=0,\n",
        "    presence_penalty=0\n",
        "  )\n",
        "  open_ai_response_object = response.to_dict_recursive()\n",
        "  response_objects = []\n",
        "  errors = []\n",
        "  for i,prompt_item in enumerate(prompt):\n",
        "    response_object_str = open_ai_response_object['choices'][i]['text']\n",
        "    try:\n",
        "      response_object_dict = read_openai_response(response_object_str)\n",
        "      assert verify_response_keys(prompt_item,response_object_dict)\n",
        "      response_objects.append(response_object_dict)\n",
        "    except Exception as e:\n",
        "      errors.append({\"index\":i,\"response_str\":response_object_str,\"error_message\":e})\n",
        "  return response_objects,errors"
      ]
    },
    {
      "cell_type": "code",
      "execution_count": null,
      "metadata": {
        "id": "2pRZ69AerVZR"
      },
      "outputs": [],
      "source": [
        "# response_test = call_openai_api(colnn_prompts[5])"
      ]
    },
    {
      "cell_type": "code",
      "execution_count": null,
      "metadata": {
        "id": "alaNkPBy0Lg4"
      },
      "outputs": [],
      "source": [
        "# prompts = {'colnn':colnn_prompts,'disease':ncbi_disease_prompts,'job':job_description_prompts}"
      ]
    },
    {
      "cell_type": "code",
      "execution_count": null,
      "metadata": {
        "id": "juA-rwF450KH"
      },
      "outputs": [],
      "source": [
        "# we need to reduce the requested prompts to 20 as the maximum allowed\n",
        "colnn_test,colnn_errors = call_openai_api(colnn_prompts[:20],max_tokens=256)\n",
        "ncbi_disease_test,ncbi_disease_errors = call_openai_api(ncbi_disease_prompts[:20],max_tokens=256)\n",
        "job_description_test,job_description_errors = call_openai_api(job_description_prompts[:20],max_tokens=512)"
      ]
    },
    {
      "cell_type": "code",
      "execution_count": null,
      "metadata": {
        "id": "o5zewJ8pujBI"
      },
      "outputs": [],
      "source": [
        "# 20 docs response time range regarding max_length 15->12\n",
        "assert len(ncbi_disease_test) == 20\n",
        "assert len(colnn_test) == 20\n",
        "assert len(job_description_test) == 20 # max length = 265 resulted in 2 errors"
      ]
    },
    {
      "cell_type": "code",
      "execution_count": null,
      "metadata": {
        "id": "HabKY6wyyc1f"
      },
      "outputs": [],
      "source": [
        "def get_JSON_report(prompts,responses,name):\n",
        "  report_objects = []\n",
        "  for i in range(20):\n",
        "    report_object = dict()\n",
        "    report_object['prompt'] = prompts[:20][i]\n",
        "    report_object['GPT_response_body'] = responses[i]\n",
        "    report_objects.append(report_object)\n",
        "  with open(f'report_{name}.json','w') as rep:\n",
        "    json.dump(report_objects,rep,ensure_ascii=True)"
      ]
    },
    {
      "cell_type": "code",
      "execution_count": null,
      "metadata": {
        "id": "BZESEMtVzem_"
      },
      "outputs": [],
      "source": [
        "get_JSON_report(colnn_prompts,colnn_test,'colnn')\n",
        "get_JSON_report(ncbi_disease_prompts,ncbi_disease_test,'ncbi_disease')\n",
        "get_JSON_report(job_description_prompts,job_description_test,'job_description')"
      ]
    },
    {
      "cell_type": "code",
      "execution_count": null,
      "metadata": {
        "id": "V32eo9vDof_i"
      },
      "outputs": [],
      "source": [
        "# response_object_dict = json.loads(response_object_str,encoding='utf-8')"
      ]
    },
    {
      "cell_type": "markdown",
      "metadata": {
        "id": "iNnUimy3tCkR"
      },
      "source": [
        "## Error analysis"
      ]
    },
    {
      "cell_type": "code",
      "execution_count": null,
      "metadata": {
        "colab": {
          "base_uri": "https://localhost:8080/",
          "height": 298
        },
        "id": "kvZJ67VrJrLj",
        "outputId": "438a8aac-1fec-4c87-ff10-bfe88d54f227"
      },
      "outputs": [
        {
          "data": {
            "text/plain": [
              "Text(0.5, 1.0, 'Global Error Rate')"
            ]
          },
          "execution_count": 329,
          "metadata": {},
          "output_type": "execute_result"
        },
        {
          "data": {
            "image/png": "[encoded data removed]",
            "text/plain": [
              "<Figure size 432x288 with 1 Axes>"
            ]
          },
          "metadata": {
            "needs_background": "light"
          },
          "output_type": "display_data"
        }
      ],
      "source": [
        "import seaborn as sns\n",
        "import matplotlib.pyplot as plt\n",
        "prompt_count = 60\n",
        "error_count = sum([len(colnn_errors),len(ncbi_disease_errors),len(job_description_errors)])\n",
        "correct_count = prompt_count - error_count\n",
        "fig, ax  = plt.subplots()\n",
        "ax.bar([1, 2], [correct_count,error_count], width=1,\n",
        "       tick_label=['successes', 'errors'], align='center')\n",
        "plt.title(\"Global Error Rate\")"
      ]
    },
    {
      "cell_type": "code",
      "execution_count": null,
      "metadata": {
        "colab": {
          "base_uri": "https://localhost:8080/",
          "height": 264
        },
        "id": "FWWUjKZOL79z",
        "outputId": "96403682-879a-4504-eac7-0d015d4f3b63"
      },
      "outputs": [
        {
          "data": {
            "image/png": "[encoded data removed]",
            "text/plain": [
              "<Figure size 432x288 with 1 Axes>"
            ]
          },
          "metadata": {},
          "output_type": "display_data"
        }
      ],
      "source": [
        "data = [20,len(ncbi_disease_errors)]\n",
        "labels = ['ncbi_disease_success', 'ncbi_disease_errors']\n",
        "colors = sns.color_palette('pastel')[0:2]\n",
        "#create pie chart\n",
        "plt.pie(data, labels = labels, colors = colors, autopct='%.0f%%')\n",
        "plt.title(\"ncbi disease error rate\")\n",
        "plt.show()"
      ]
    },
    {
      "cell_type": "code",
      "execution_count": null,
      "metadata": {
        "colab": {
          "base_uri": "https://localhost:8080/",
          "height": 264
        },
        "id": "pRbAzNN_M7NT",
        "outputId": "37992072-2efc-4e52-99d8-f8709a9b9b3d"
      },
      "outputs": [
        {
          "data": {
            "image/png": "[encoded data removed]",
            "text/plain": [
              "<Figure size 432x288 with 1 Axes>"
            ]
          },
          "metadata": {},
          "output_type": "display_data"
        }
      ],
      "source": [
        "data = [20,len(colnn_errors)]\n",
        "labels = ['colnn_success', 'colnn_errors']\n",
        "colors = sns.color_palette('pastel')[0:2]\n",
        "#create pie chart\n",
        "plt.pie(data, labels = labels, colors = colors, autopct='%.0f%%')\n",
        "plt.title(\"colnn error rate\")\n",
        "plt.show()"
      ]
    },
    {
      "cell_type": "code",
      "execution_count": null,
      "metadata": {
        "colab": {
          "base_uri": "https://localhost:8080/",
          "height": 264
        },
        "id": "ySS6-XTsNF2K",
        "outputId": "c11e48a8-57a5-4a35-dc4d-1511da2d9285"
      },
      "outputs": [
        {
          "data": {
            "image/png": "[encoded data removed]",
            "text/plain": [
              "<Figure size 432x288 with 1 Axes>"
            ]
          },
          "metadata": {},
          "output_type": "display_data"
        }
      ],
      "source": [
        "data = [20,len(job_description_errors)]\n",
        "labels = ['job_description_success', 'job_description_errors']\n",
        "colors = sns.color_palette('pastel')[0:2]\n",
        "#create pie chart\n",
        "plt.pie(data, labels = labels, colors = colors, autopct='%.0f%%')\n",
        "plt.title(\"job_description error rate\")\n",
        "plt.show()"
      ]
    }
  ],
  "metadata": {
    "colab": {
      "authorship_tag": "ABX9TyMI6Y146DTcWH2ZIWRRijAU",
      "collapsed_sections": [],
      "include_colab_link": true,
      "name": "GPT3ConsistencyTest.ipynb",
      "provenance": []
    },
    "kernelspec": {
      "display_name": "Python 3",
      "name": "python3"
    },
    "language_info": {
      "name": "python"
    }
  },
  "nbformat": 4,
  "nbformat_minor": 0
}
