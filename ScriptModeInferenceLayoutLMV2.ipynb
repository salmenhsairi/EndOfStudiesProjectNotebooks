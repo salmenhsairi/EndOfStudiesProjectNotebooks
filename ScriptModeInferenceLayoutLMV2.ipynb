{
  "nbformat": 4,
  "nbformat_minor": 0,
  "metadata": {
    "colab": {
      "name": "ScriptModeInferenceLayoutLMV2.ipynb",
      "provenance": [],
      "collapsed_sections": [],
      "authorship_tag": "ABX9TyOw8JIuE89d+Z3uvWTBvb/+",
      "include_colab_link": true
    },
    "kernelspec": {
      "name": "python3",
      "display_name": "Python 3"
    },
    "language_info": {
      "name": "python"
    },
    "accelerator": "GPU"
  },
  "cells": [
    {
      "cell_type": "markdown",
      "metadata": {
        "id": "view-in-github",
        "colab_type": "text"
      },
      "source": [
        "<a href=\"https://colab.research.google.com/github/salmenhsairi/EndOfStudiesProjectNotebooks/blob/main/ScriptModeInferenceLayoutLMV2.ipynb\" target=\"_parent\"><img src=\"https://colab.research.google.com/assets/colab-badge.svg\" alt=\"Open In Colab\"/></a>"
      ]
    },
    {
      "cell_type": "code",
      "execution_count": null,
      "metadata": {
        "colab": {
          "base_uri": "https://localhost:8080/"
        },
        "id": "Q_bIPTEWX02d",
        "outputId": "6122f3b0-f873-4312-f7b0-ca3e542432ca"
      },
      "outputs": [
        {
          "output_type": "stream",
          "name": "stdout",
          "text": [
            "Mounted at /content/drive\n"
          ]
        }
      ],
      "source": [
        "#drive mount\n",
        "from google.colab import drive\n",
        "drive.mount('/content/drive')"
      ]
    },
    {
      "cell_type": "code",
      "source": [
        "## install tesseract OCR Engine\n",
        "! sudo apt install tesseract-ocr\n",
        "! sudo apt install libtesseract-dev\n",
        "## install pytesseract , please click restart runtime button in the cell output and move forward in the notebook\n",
        "! pip install pytesseract\n",
        "## install model requirements\n",
        "! pip install -q git+https://github.com/huggingface/transformers.git\n",
        "! python -m pip install -q 'git+https://github.com/facebookresearch/detectron2.git'"
      ],
      "metadata": {
        "id": "Q13A235zX6y_"
      },
      "execution_count": null,
      "outputs": []
    },
    {
      "cell_type": "code",
      "source": [
        "# pip freeze > colab_requirements.txt"
      ],
      "metadata": {
        "id": "z7r2B0bhXFRV"
      },
      "execution_count": null,
      "outputs": []
    },
    {
      "cell_type": "code",
      "source": [
        "! rm -r layoutlmv2_fine_tuning\n",
        "! git clone -b main https://github.com/salmenhsairi/layoutlmv2_fine_tuning.git"
      ],
      "metadata": {
        "colab": {
          "base_uri": "https://localhost:8080/"
        },
        "id": "tQ4Zg-isdi_p",
        "outputId": "8d23ff05-6bcc-45df-f427-20b26909daac"
      },
      "execution_count": null,
      "outputs": [
        {
          "output_type": "stream",
          "name": "stdout",
          "text": [
            "rm: cannot remove 'layoutlmv2_fine_tuning': No such file or directory\n",
            "Cloning into 'layoutlmv2_fine_tuning'...\n",
            "remote: Enumerating objects: 60, done.\u001b[K\n",
            "remote: Counting objects: 100% (60/60), done.\u001b[K\n",
            "remote: Compressing objects: 100% (45/45), done.\u001b[K\n",
            "remote: Total 60 (delta 17), reused 58 (delta 15), pack-reused 0\u001b[K\n",
            "Unpacking objects: 100% (60/60), done.\n"
          ]
        }
      ]
    },
    {
      "cell_type": "code",
      "source": [
        "# the first run needs to load the model "
      ],
      "metadata": {
        "id": "lUn5ccKrYPCu"
      },
      "execution_count": null,
      "outputs": []
    },
    {
      "cell_type": "code",
      "source": [
        "#!/bin/bash\n",
        "model_path = \"/content/drive/MyDrive/Colab Notebooks/Work/LayoutLMModel/modelTest.pth\"\n",
        "imag_path = \"/content/15a9d545-65df-4a88-a229-5f5653639882_2021-05-27_2109.txt_image_0.jpg\"\n",
        "output_path = \"/content/Inference_output\"\n",
        "! python3 /content/layoutlmv2_fine_tuning/inferenceScript/layoutlmv2Inference.py \"$model_path\" \"$imag_path\" \"$output_path\""
      ],
      "metadata": {
        "colab": {
          "base_uri": "https://localhost:8080/"
        },
        "id": "banbE0FQYDsX",
        "outputId": "4c2e03d4-db14-417f-dd70-410a82b44990"
      },
      "execution_count": null,
      "outputs": [
        {
          "output_type": "stream",
          "name": "stdout",
          "text": [
            "Tesseract Open Source OCR Engine v4.0.0-beta.1 with Leptonica\n",
            "Warning. Invalid resolution 0 dpi. Using 70 instead.\n",
            "Estimating resolution as 231\n"
          ]
        }
      ]
    }
  ]
}