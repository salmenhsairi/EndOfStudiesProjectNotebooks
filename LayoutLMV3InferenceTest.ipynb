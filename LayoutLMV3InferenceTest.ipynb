{
  "nbformat": 4,
  "nbformat_minor": 0,
  "metadata": {
    "colab": {
      "name": "LayoutLMV3InferenceTest.ipynb",
      "provenance": [],
      "collapsed_sections": [],
      "authorship_tag": "ABX9TyP7DsY+hZi81sno+gN5b6W/",
      "include_colab_link": true
    },
    "kernelspec": {
      "name": "python3",
      "display_name": "Python 3"
    },
    "language_info": {
      "name": "python"
    },
    "accelerator": "GPU",
    "gpuClass": "standard"
  },
  "cells": [
    {
      "cell_type": "markdown",
      "metadata": {
        "id": "view-in-github",
        "colab_type": "text"
      },
      "source": [
        "<a href=\"https://colab.research.google.com/github/salmenhsairi/EndOfStudiesProjectNotebooks/blob/main/LayoutLMV3InferenceTest.ipynb\" target=\"_parent\"><img src=\"https://colab.research.google.com/assets/colab-badge.svg\" alt=\"Open In Colab\"/></a>"
      ]
    },
    {
      "cell_type": "code",
      "source": [
        "#drive mount\n",
        "from google.colab import drive\n",
        "drive.mount('/content/drive')"
      ],
      "metadata": {
        "colab": {
          "base_uri": "https://localhost:8080/"
        },
        "id": "SjGozaM8VK06",
        "outputId": "c4608257-a3ad-4b9c-b0db-efaf440616d4"
      },
      "execution_count": null,
      "outputs": [
        {
          "output_type": "stream",
          "name": "stdout",
          "text": [
            "Mounted at /content/drive\n"
          ]
        }
      ]
    },
    {
      "cell_type": "code",
      "source": [
        "## install Hugging face Transformers library to load Layoutlmv3 Preprocessor\n",
        "!pip install -q git+https://github.com/huggingface/transformers.git\n",
        "## install tesseract OCR Engine\n",
        "! sudo apt install tesseract-ocr\n",
        "! sudo apt install libtesseract-dev\n",
        "## install pytesseract , please click restart runtime button in the cell output and move forward in the notebook\n",
        "! pip install pytesseract"
      ],
      "metadata": {
        "id": "N1_XdYaYVYEx"
      },
      "execution_count": null,
      "outputs": []
    },
    {
      "cell_type": "code",
      "source": [
        "# ! rm -r layoutlmv3FineTuning\n",
        "! git clone https://github.com/salmenhsairi/layoutlmv3FineTuning.git"
      ],
      "metadata": {
        "colab": {
          "base_uri": "https://localhost:8080/"
        },
        "id": "R9g0SqycVa7T",
        "outputId": "abd8d111-e267-4a5a-b14d-d663364d160f"
      },
      "execution_count": null,
      "outputs": [
        {
          "output_type": "stream",
          "name": "stdout",
          "text": [
            "Cloning into 'layoutlmv3FineTuning'...\n",
            "remote: Enumerating objects: 40, done.\u001b[K\n",
            "remote: Counting objects: 100% (40/40), done.\u001b[K\n",
            "remote: Compressing objects: 100% (32/32), done.\u001b[K\n",
            "remote: Total 40 (delta 14), reused 18 (delta 6), pack-reused 0\u001b[K\n",
            "Unpacking objects: 100% (40/40), done.\n"
          ]
        }
      ]
    },
    {
      "cell_type": "code",
      "source": [
        "import os\n",
        "import torch\n",
        "import warnings\n",
        "from PIL import Image\n",
        "\n",
        "warnings.filterwarnings('ignore')"
      ],
      "metadata": {
        "id": "GLMkKFLLWFIC"
      },
      "execution_count": null,
      "outputs": []
    },
    {
      "cell_type": "code",
      "source": [
        "# move all inference images from /content to 'images' folder\n",
        "def move_images_to_folder(folder='/content/images'):\n",
        "  os.makedirs(folder,exist_ok=True)\n",
        "  for image in os.listdir():\n",
        "    try:\n",
        "      img = Image.open(f'{os.curdir}/{image}')\n",
        "      os.system(f'mv \"{image}\" \"{folder}/{image}\"')\n",
        "    except:\n",
        "      pass"
      ],
      "metadata": {
        "id": "9175NQJIWJ_Y"
      },
      "execution_count": null,
      "outputs": []
    },
    {
      "cell_type": "code",
      "source": [
        "# defining inference parameters\n",
        "model_path = \"/content/drive/MyDrive/Colab Notebooks/Work/LayoutLMModel/InvoiceLayoutLMV3\" # path to Layoutlmv3 model \n",
        "imag_path = \"/content/images\" # images folder "
      ],
      "metadata": {
        "id": "uR_iyy25k34W"
      },
      "execution_count": null,
      "outputs": []
    },
    {
      "cell_type": "code",
      "source": [
        "# if inference model is pth then convert it to pre-trained format\n",
        "if model_path.endswith('.pth'):\n",
        "  layoutlmv3_model = torch.load(model_path)\n",
        "  model_path = '/content/pre_trained_layoutlmv3'\n",
        "  layoutlmv3_model.save_pretrained(model_path)"
      ],
      "metadata": {
        "id": "agdzXPVej8aU"
      },
      "execution_count": null,
      "outputs": []
    },
    {
      "cell_type": "code",
      "source": [
        "# Call inference module\n",
        "move_images_to_folder()\n",
        "! python3 /content/layoutlmv3FineTuning/run_inference.py --model_path \"$model_path\" --images_path $imag_path\n",
        "! rm -r /content/images\n",
        "! rm *.tsv\n",
        "move_images_to_folder('/content/AnnotatedImages')"
      ],
      "metadata": {
        "id": "id28vILoV3mI",
        "colab": {
          "base_uri": "https://localhost:8080/"
        },
        "outputId": "688195c2-5db9-466a-bb57-a01dba72b1e5"
      },
      "execution_count": null,
      "outputs": [
        {
          "output_type": "stream",
          "name": "stdout",
          "text": [
            "Tesseract Open Source OCR Engine v4.0.0-beta.1 with Leptonica\n",
            "Warning. Invalid resolution 0 dpi. Using 70 instead.\n",
            "Estimating resolution as 260\n",
            "Tesseract Open Source OCR Engine v4.0.0-beta.1 with Leptonica\n",
            "Warning. Invalid resolution 0 dpi. Using 70 instead.\n",
            "Estimating resolution as 250\n",
            "Tesseract Open Source OCR Engine v4.0.0-beta.1 with Leptonica\n",
            "Warning. Invalid resolution 0 dpi. Using 70 instead.\n",
            "Estimating resolution as 226\n",
            "Tesseract Open Source OCR Engine v4.0.0-beta.1 with Leptonica\n",
            "Warning. Invalid resolution 0 dpi. Using 70 instead.\n",
            "Estimating resolution as 218\n",
            "Detected 3 diacritics\n",
            "/usr/local/lib/python3.7/dist-packages/transformers/modeling_utils.py:703: FutureWarning: The `device` argument is deprecated and will be removed in v5 of Transformers.\n",
            "  \"The `device` argument is deprecated and will be removed in v5 of Transformers.\", FutureWarning\n"
          ]
        }
      ]
    },
    {
      "cell_type": "code",
      "source": [
        "import gc\n",
        "gc.collect()"
      ],
      "metadata": {
        "colab": {
          "base_uri": "https://localhost:8080/"
        },
        "id": "PMqocHLqjmzw",
        "outputId": "7c2ac0cd-5ff1-477c-b611-b69ff0c16f37"
      },
      "execution_count": null,
      "outputs": [
        {
          "output_type": "execute_result",
          "data": {
            "text/plain": [
              "88"
            ]
          },
          "metadata": {},
          "execution_count": 16
        }
      ]
    }
  ]
}